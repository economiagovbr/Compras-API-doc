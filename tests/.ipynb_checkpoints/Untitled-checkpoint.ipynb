{
 "cells": [
  {
   "cell_type": "code",
   "execution_count": null,
   "id": "ae6e7b08-7a17-4614-a850-e420c9956474",
   "metadata": {},
   "outputs": [
    {
     "name": "stdout",
     "output_type": "stream",
     "text": [
      "======================================= test session starts ========================================\n",
      "platform linux -- Python 3.9.5, pytest-7.1.3, pluggy-1.0.0 -- /usr/bin/python3\n",
      "cachedir: .pytest_cache\n",
      "hypothesis profile 'default' -> database=DirectoryBasedExampleDatabase('/opt/Compras-API-doc/tests/.hypothesis/examples')\n",
      "rootdir: /opt/Compras-API-doc/tests\n",
      "plugins: schemathesis-3.17.2, hypothesis-6.54.6, subtests-0.7.0, anyio-3.4.0\n",
      "collecting ... collected 2 items\n",
      "\n",
      "tmp8ch99jet.py::test_contratos[http://compras.dados.gov.br/comprasContratos/doc/contrato/114325] <- ../../../tmp/ipykernel_13824/897610796.py PASSED [ 50%]\n",
      "tmp8ch99jet.py::test_contratos[http://compras.dados.gov.br/comprasContratos/doc/contrato/136100/cronogramas] <- ../../../tmp/ipykernel_13824/897610796.py "
     ]
    }
   ],
   "source": [
    "\"\"\"\n",
    "Testes relacionados aos endpoints da API.\n",
    "\"\"\"\n",
    "from datetime import datetime\n",
    "import requests\n",
    "from requests import Session\n",
    "from fastapi import status\n",
    "import pytest\n",
    "import ipytest\n",
    "\n",
    "headers = {\n",
    "    \"accept\": \"application/json\",\n",
    "    \"Content-Type\": \"application/json\",\n",
    "    \"User-Agent\": 'request'\n",
    "}\n",
    "\n",
    "URL = \"http://compras.dados.gov.br\"\n",
    "\n",
    "endpoints = [\n",
    "    \"http://compras.dados.gov.br/comprasContratos/doc/contrato/114325\",\n",
    "    \"http://compras.dados.gov.br/comprasContratos/doc/contrato/136100/cronogramas\"\n",
    "\n",
    "\n",
    "]\n",
    "\n",
    "\n",
    "@pytest.mark.parametrize(\"endpoint\", endpoints)\n",
    "def test_query_endpoint(endpoint):\n",
    "    \"\"\"Tenta criar um plano de trabalho, mas em cada atividade os\n",
    "    campos opcionais são omitidos.\n",
    "    \"\"\"\n",
    "    response = requests.get(endpoint,\n",
    "                          headers=headers)\n",
    "\n",
    "    assert response.status_code == status.HTTP_200_OK\n",
    "\n",
    "ipytest.run('-vv')\n",
    "\n"
   ]
  },
  {
   "cell_type": "code",
   "execution_count": null,
   "id": "e8506b83-7cf2-4884-a03a-7a38df4a8d17",
   "metadata": {},
   "outputs": [],
   "source": []
  },
  {
   "cell_type": "code",
   "execution_count": null,
   "id": "b9d8dad8-8975-4139-b2fb-d545860825fc",
   "metadata": {},
   "outputs": [],
   "source": []
  }
 ],
 "metadata": {
  "kernelspec": {
   "display_name": "Python 3 (ipykernel)",
   "language": "python",
   "name": "python3"
  },
  "language_info": {
   "codemirror_mode": {
    "name": "ipython",
    "version": 3
   },
   "file_extension": ".py",
   "mimetype": "text/x-python",
   "name": "python",
   "nbconvert_exporter": "python",
   "pygments_lexer": "ipython3",
   "version": "3.9.5"
  }
 },
 "nbformat": 4,
 "nbformat_minor": 5
}
